{
 "cells": [
  {
   "cell_type": "markdown",
   "metadata": {},
   "source": [
    "# import DKCCA library\n",
    "\n",
    "DKCCA package is available at https://github.com/jrodu/DKCCA"
   ]
  },
  {
   "cell_type": "code",
   "execution_count": 1,
   "metadata": {},
   "outputs": [],
   "source": [
    "addpath('~/DKCCA/simulationFiles', '~/DKCCA/util', '~/DKCCA');"
   ]
  },
  {
   "cell_type": "markdown",
   "metadata": {},
   "source": [
    "# load data"
   ]
  },
  {
   "cell_type": "code",
   "execution_count": 38,
   "metadata": {},
   "outputs": [],
   "source": [
    "save_dir = '../data/simulation';\n",
    "data_num = 5;"
   ]
  },
  {
   "cell_type": "code",
   "execution_count": 39,
   "metadata": {},
   "outputs": [],
   "source": [
    "load(sprintf('%s/data_sim_%d.mat',save_dir,data_num))"
   ]
  },
  {
   "cell_type": "code",
   "execution_count": 40,
   "metadata": {},
   "outputs": [],
   "source": [
    "obs1 = permute(pop_0(1:2:50,:,:), [2 1 3]);\n",
    "obs2 = permute(pop_1(1:2:50,:,:), [2 1 3]);"
   ]
  },
  {
   "cell_type": "markdown",
   "metadata": {},
   "source": [
    "# run DKCCA"
   ]
  },
  {
   "cell_type": "code",
   "execution_count": 41,
   "metadata": {},
   "outputs": [],
   "source": [
    "numpermute=0;  % this is too low, but is set here for speed.  \n",
    "setnumperwindow=1;\n",
    "windowlength=11;\n",
    "numcomponents=1;\n",
    "regwindow=.7:.1:1;\n",
    "gsdval=5;"
   ]
  },
  {
   "cell_type": "code",
   "execution_count": 42,
   "metadata": {},
   "outputs": [
    {
     "name": "stdout",
     "output_type": "stream",
     "text": [
      "Warning: These measurements are not supported if ndims(L) > 2: MajorAxisLength MinorAxisLength ConvexHull .\n",
      "> In regionprops>NoNDSupport (line 1440)\n",
      "  In regionprops>PreprocessRequestedStats (line 1471)\n",
      "  In regionprops>InitializeStatStructures (line 1411)\n",
      "  In regionprops (line 228)\n",
      "  In get_statistics (line 50)\n",
      "  In DKCCA (line 39)\n",
      "Warning: These measurements are not supported if ndims(L) > 2: MajorAxisLength MinorAxisLength Eccentricity Orientation .\n",
      "> In regionprops>NoNDSupport (line 1440)\n",
      "  In regionprops>ComputeEllipseParams (line 743)\n",
      "  In regionprops (line 287)\n",
      "  In get_statistics (line 50)\n",
      "  In DKCCA (line 39)\n",
      "Warning: This measurement is not supported if ndims(L) > 2: ConvexHull.\n",
      "> In regionprops>NoNDSupport (line 1443)\n",
      "  In regionprops>ComputeConvexHull (line 1042)\n",
      "  In regionprops (line 303)\n",
      "  In get_statistics (line 50)\n",
      "  In DKCCA (line 39)\n"
     ]
    }
   ],
   "source": [
    "[dcell, ca, reg, dirsa, kernelMats, corcells] = DKCCA(obs1, obs2, setnumperwindow, windowlength, numpermute, numcomponents, regwindow, gsdval);"
   ]
  },
  {
   "cell_type": "markdown",
   "metadata": {},
   "source": [
    "# DKCCA result"
   ]
  },
  {
   "cell_type": "code",
   "execution_count": 43,
   "metadata": {},
   "outputs": [
    {
     "data": {
      "image/png": "[encoded data removed]",
      "text/plain": [
       "<IPython.core.display.Image object>"
      ]
     },
     "metadata": {},
     "output_type": "display_data"
    }
   ],
   "source": [
    "%plot inline\n",
    "\n",
    "imagesc(dcell.original)\n",
    "colormap rdbu\n",
    "caxis([0 1])\n",
    "axis square\n",
    "xlabel('time (ms), region Y')\n",
    "ylabel('time (ms), region X')"
   ]
  },
  {
   "cell_type": "code",
   "execution_count": 44,
   "metadata": {},
   "outputs": [],
   "source": [
    "Sigma_DKCCA = dcell.original;\n",
    "latent_DKCCA = corcells;\n",
    "save(sprintf('%s/result_DKCCA_%d.mat', save_dir, data_num), 'Sigma_DKCCA', 'latent_DKCCA')"
   ]
  },
  {
   "cell_type": "code",
   "execution_count": null,
   "metadata": {},
   "outputs": [],
   "source": []
  }
 ],
 "metadata": {
  "kernelspec": {
   "display_name": "Matlab",
   "language": "matlab",
   "name": "matlab"
  },
  "language_info": {
   "codemirror_mode": "octave",
   "file_extension": ".m",
   "help_links": [
    {
     "text": "MetaKernel Magics",
     "url": "https://metakernel.readthedocs.io/en/latest/source/README.html"
    }
   ],
   "mimetype": "text/x-octave",
   "name": "matlab",
   "version": "0.16.8"
  }
 },
 "nbformat": 4,
 "nbformat_minor": 4
}
